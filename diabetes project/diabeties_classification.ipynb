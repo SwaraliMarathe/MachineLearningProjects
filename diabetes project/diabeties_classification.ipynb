{
 "cells": [
  {
   "cell_type": "markdown",
   "id": "b917b74d",
   "metadata": {},
   "source": [
    "### Goal :- The main objective of using this dataset is to build a predictive model that can accurately classify patients as either    having diabetes or not having diabetes based on their medical attributes. "
   ]
  },
  {
   "cell_type": "code",
   "execution_count": 1,
   "id": "9da3e2eb",
   "metadata": {},
   "outputs": [],
   "source": [
    "# importing libraries\n",
    "import pandas as pd\n",
    "import numpy as np\n",
    "import matplotlib.pyplot as plt\n",
    "import seaborn as sns\n",
    "import warnings\n",
    "warnings.filterwarnings('ignore')"
   ]
  },
  {
   "cell_type": "code",
   "execution_count": 2,
   "id": "36eca095",
   "metadata": {},
   "outputs": [
    {
     "data": {
      "text/html": [
       "<div>\n",
       "<style scoped>\n",
       "    .dataframe tbody tr th:only-of-type {\n",
       "        vertical-align: middle;\n",
       "    }\n",
       "\n",
       "    .dataframe tbody tr th {\n",
       "        vertical-align: top;\n",
       "    }\n",
       "\n",
       "    .dataframe thead th {\n",
       "        text-align: right;\n",
       "    }\n",
       "</style>\n",
       "<table border=\"1\" class=\"dataframe\">\n",
       "  <thead>\n",
       "    <tr style=\"text-align: right;\">\n",
       "      <th></th>\n",
       "      <th>pregnant</th>\n",
       "      <th>glocose</th>\n",
       "      <th>bp</th>\n",
       "      <th>skin</th>\n",
       "      <th>insulin</th>\n",
       "      <th>bmi</th>\n",
       "      <th>predigree</th>\n",
       "      <th>age</th>\n",
       "      <th>target</th>\n",
       "    </tr>\n",
       "  </thead>\n",
       "  <tbody>\n",
       "    <tr>\n",
       "      <th>0</th>\n",
       "      <td>6</td>\n",
       "      <td>148</td>\n",
       "      <td>72</td>\n",
       "      <td>35</td>\n",
       "      <td>0</td>\n",
       "      <td>33.6</td>\n",
       "      <td>0.627</td>\n",
       "      <td>50</td>\n",
       "      <td>1</td>\n",
       "    </tr>\n",
       "    <tr>\n",
       "      <th>1</th>\n",
       "      <td>1</td>\n",
       "      <td>85</td>\n",
       "      <td>66</td>\n",
       "      <td>29</td>\n",
       "      <td>0</td>\n",
       "      <td>26.6</td>\n",
       "      <td>0.351</td>\n",
       "      <td>31</td>\n",
       "      <td>0</td>\n",
       "    </tr>\n",
       "    <tr>\n",
       "      <th>2</th>\n",
       "      <td>8</td>\n",
       "      <td>183</td>\n",
       "      <td>64</td>\n",
       "      <td>0</td>\n",
       "      <td>0</td>\n",
       "      <td>23.3</td>\n",
       "      <td>0.672</td>\n",
       "      <td>32</td>\n",
       "      <td>1</td>\n",
       "    </tr>\n",
       "    <tr>\n",
       "      <th>3</th>\n",
       "      <td>1</td>\n",
       "      <td>89</td>\n",
       "      <td>66</td>\n",
       "      <td>23</td>\n",
       "      <td>94</td>\n",
       "      <td>28.1</td>\n",
       "      <td>0.167</td>\n",
       "      <td>21</td>\n",
       "      <td>0</td>\n",
       "    </tr>\n",
       "    <tr>\n",
       "      <th>4</th>\n",
       "      <td>0</td>\n",
       "      <td>137</td>\n",
       "      <td>40</td>\n",
       "      <td>35</td>\n",
       "      <td>168</td>\n",
       "      <td>43.1</td>\n",
       "      <td>2.288</td>\n",
       "      <td>33</td>\n",
       "      <td>1</td>\n",
       "    </tr>\n",
       "  </tbody>\n",
       "</table>\n",
       "</div>"
      ],
      "text/plain": [
       "   pregnant  glocose  bp  skin  insulin   bmi  predigree  age  target\n",
       "0         6      148  72    35        0  33.6      0.627   50       1\n",
       "1         1       85  66    29        0  26.6      0.351   31       0\n",
       "2         8      183  64     0        0  23.3      0.672   32       1\n",
       "3         1       89  66    23       94  28.1      0.167   21       0\n",
       "4         0      137  40    35      168  43.1      2.288   33       1"
      ]
     },
     "execution_count": 2,
     "metadata": {},
     "output_type": "execute_result"
    }
   ],
   "source": [
    "df=pd.read_csv('diabeties.csv')\n",
    "df.head()"
   ]
  },
  {
   "cell_type": "code",
   "execution_count": 3,
   "id": "9d53bb80",
   "metadata": {},
   "outputs": [
    {
     "name": "stdout",
     "output_type": "stream",
     "text": [
      "<class 'pandas.core.frame.DataFrame'>\n",
      "RangeIndex: 768 entries, 0 to 767\n",
      "Data columns (total 9 columns):\n",
      " #   Column     Non-Null Count  Dtype  \n",
      "---  ------     --------------  -----  \n",
      " 0   pregnant   768 non-null    int64  \n",
      " 1   glocose    768 non-null    int64  \n",
      " 2   bp         768 non-null    int64  \n",
      " 3   skin       768 non-null    int64  \n",
      " 4   insulin    768 non-null    int64  \n",
      " 5   bmi        768 non-null    float64\n",
      " 6   predigree  768 non-null    float64\n",
      " 7   age        768 non-null    int64  \n",
      " 8   target     768 non-null    int64  \n",
      "dtypes: float64(2), int64(7)\n",
      "memory usage: 54.1 KB\n"
     ]
    }
   ],
   "source": [
    "df.info()"
   ]
  },
  {
   "cell_type": "raw",
   "id": "8396a092",
   "metadata": {},
   "source": [
    "There are  768 rows and 9 columns in the dataset:\n",
    "Pregnant: The number of times the patient has been pregnant.\n",
    "Glocose: The blood glucose concentration of the patient.\n",
    "bp: The blood pressure measurement of the patient.\n",
    "Skin: The thickness of the skin fold on the triceps.\n",
    "Insulin: The insulin level of the patient.\n",
    "BMI: A measure of body fat based on height and weight.\n",
    "predegree: A function that scores the likelihood of diabetes based on family history.\n",
    "Age: The age of the patient.\n",
    "target: It is Y variable which tells us whether patient is diabetic or not\n",
    "\n",
    "\n",
    "\n"
   ]
  },
  {
   "cell_type": "code",
   "execution_count": 4,
   "id": "ae56f75c",
   "metadata": {},
   "outputs": [
    {
     "data": {
      "text/plain": [
       "pregnant     0\n",
       "glocose      0\n",
       "bp           0\n",
       "skin         0\n",
       "insulin      0\n",
       "bmi          0\n",
       "predigree    0\n",
       "age          0\n",
       "target       0\n",
       "dtype: int64"
      ]
     },
     "execution_count": 4,
     "metadata": {},
     "output_type": "execute_result"
    }
   ],
   "source": [
    "# to see if dataset has any missing values/ NAN values\n",
    "df.isnull().sum()"
   ]
  },
  {
   "cell_type": "code",
   "execution_count": 4,
   "id": "a33b7403",
   "metadata": {},
   "outputs": [
    {
     "data": {
      "text/html": [
       "<div>\n",
       "<style scoped>\n",
       "    .dataframe tbody tr th:only-of-type {\n",
       "        vertical-align: middle;\n",
       "    }\n",
       "\n",
       "    .dataframe tbody tr th {\n",
       "        vertical-align: top;\n",
       "    }\n",
       "\n",
       "    .dataframe thead th {\n",
       "        text-align: right;\n",
       "    }\n",
       "</style>\n",
       "<table border=\"1\" class=\"dataframe\">\n",
       "  <thead>\n",
       "    <tr style=\"text-align: right;\">\n",
       "      <th></th>\n",
       "      <th>pregnant</th>\n",
       "      <th>glocose</th>\n",
       "      <th>bp</th>\n",
       "      <th>skin</th>\n",
       "      <th>insulin</th>\n",
       "      <th>bmi</th>\n",
       "      <th>predigree</th>\n",
       "      <th>age</th>\n",
       "      <th>target</th>\n",
       "    </tr>\n",
       "  </thead>\n",
       "  <tbody>\n",
       "    <tr>\n",
       "      <th>count</th>\n",
       "      <td>768.000000</td>\n",
       "      <td>768.000000</td>\n",
       "      <td>768.000000</td>\n",
       "      <td>768.000000</td>\n",
       "      <td>768.000000</td>\n",
       "      <td>768.000000</td>\n",
       "      <td>768.000000</td>\n",
       "      <td>768.000000</td>\n",
       "      <td>768.000000</td>\n",
       "    </tr>\n",
       "    <tr>\n",
       "      <th>mean</th>\n",
       "      <td>3.845052</td>\n",
       "      <td>120.894531</td>\n",
       "      <td>69.105469</td>\n",
       "      <td>20.536458</td>\n",
       "      <td>79.799479</td>\n",
       "      <td>31.992578</td>\n",
       "      <td>0.471876</td>\n",
       "      <td>33.240885</td>\n",
       "      <td>0.348958</td>\n",
       "    </tr>\n",
       "    <tr>\n",
       "      <th>std</th>\n",
       "      <td>3.369578</td>\n",
       "      <td>31.972618</td>\n",
       "      <td>19.355807</td>\n",
       "      <td>15.952218</td>\n",
       "      <td>115.244002</td>\n",
       "      <td>7.884160</td>\n",
       "      <td>0.331329</td>\n",
       "      <td>11.760232</td>\n",
       "      <td>0.476951</td>\n",
       "    </tr>\n",
       "    <tr>\n",
       "      <th>min</th>\n",
       "      <td>0.000000</td>\n",
       "      <td>0.000000</td>\n",
       "      <td>0.000000</td>\n",
       "      <td>0.000000</td>\n",
       "      <td>0.000000</td>\n",
       "      <td>0.000000</td>\n",
       "      <td>0.078000</td>\n",
       "      <td>21.000000</td>\n",
       "      <td>0.000000</td>\n",
       "    </tr>\n",
       "    <tr>\n",
       "      <th>25%</th>\n",
       "      <td>1.000000</td>\n",
       "      <td>99.000000</td>\n",
       "      <td>62.000000</td>\n",
       "      <td>0.000000</td>\n",
       "      <td>0.000000</td>\n",
       "      <td>27.300000</td>\n",
       "      <td>0.243750</td>\n",
       "      <td>24.000000</td>\n",
       "      <td>0.000000</td>\n",
       "    </tr>\n",
       "    <tr>\n",
       "      <th>50%</th>\n",
       "      <td>3.000000</td>\n",
       "      <td>117.000000</td>\n",
       "      <td>72.000000</td>\n",
       "      <td>23.000000</td>\n",
       "      <td>30.500000</td>\n",
       "      <td>32.000000</td>\n",
       "      <td>0.372500</td>\n",
       "      <td>29.000000</td>\n",
       "      <td>0.000000</td>\n",
       "    </tr>\n",
       "    <tr>\n",
       "      <th>75%</th>\n",
       "      <td>6.000000</td>\n",
       "      <td>140.250000</td>\n",
       "      <td>80.000000</td>\n",
       "      <td>32.000000</td>\n",
       "      <td>127.250000</td>\n",
       "      <td>36.600000</td>\n",
       "      <td>0.626250</td>\n",
       "      <td>41.000000</td>\n",
       "      <td>1.000000</td>\n",
       "    </tr>\n",
       "    <tr>\n",
       "      <th>max</th>\n",
       "      <td>17.000000</td>\n",
       "      <td>199.000000</td>\n",
       "      <td>122.000000</td>\n",
       "      <td>99.000000</td>\n",
       "      <td>846.000000</td>\n",
       "      <td>67.100000</td>\n",
       "      <td>2.420000</td>\n",
       "      <td>81.000000</td>\n",
       "      <td>1.000000</td>\n",
       "    </tr>\n",
       "  </tbody>\n",
       "</table>\n",
       "</div>"
      ],
      "text/plain": [
       "         pregnant     glocose          bp        skin     insulin         bmi  \\\n",
       "count  768.000000  768.000000  768.000000  768.000000  768.000000  768.000000   \n",
       "mean     3.845052  120.894531   69.105469   20.536458   79.799479   31.992578   \n",
       "std      3.369578   31.972618   19.355807   15.952218  115.244002    7.884160   \n",
       "min      0.000000    0.000000    0.000000    0.000000    0.000000    0.000000   \n",
       "25%      1.000000   99.000000   62.000000    0.000000    0.000000   27.300000   \n",
       "50%      3.000000  117.000000   72.000000   23.000000   30.500000   32.000000   \n",
       "75%      6.000000  140.250000   80.000000   32.000000  127.250000   36.600000   \n",
       "max     17.000000  199.000000  122.000000   99.000000  846.000000   67.100000   \n",
       "\n",
       "        predigree         age      target  \n",
       "count  768.000000  768.000000  768.000000  \n",
       "mean     0.471876   33.240885    0.348958  \n",
       "std      0.331329   11.760232    0.476951  \n",
       "min      0.078000   21.000000    0.000000  \n",
       "25%      0.243750   24.000000    0.000000  \n",
       "50%      0.372500   29.000000    0.000000  \n",
       "75%      0.626250   41.000000    1.000000  \n",
       "max      2.420000   81.000000    1.000000  "
      ]
     },
     "execution_count": 4,
     "metadata": {},
     "output_type": "execute_result"
    }
   ],
   "source": [
    "df.describe()\n"
   ]
  },
  {
   "cell_type": "markdown",
   "id": "49c50fbe",
   "metadata": {},
   "source": [
    "Describtive statistics :\n",
    "The average number of pregnancies for the patients is approximately 3.85.\n",
    "The standard deviation is around 3.37, indicating a moderate level of variability in the number of pregnancies among the patients.\n",
    "\n",
    "There are instances where the glucose level is recorded as 0, which might indicate missing or erroneous data.\n",
    "The maximum glucose level recorded is 199 mg/dL.\n",
    "\n",
    "There are instances where the blood pressure is recorded as 0, which might indicate missing or erroneous data.\n",
    "\n",
    "There are instances where the skin thickness is recorded as 0, which might indicate missing or erroneous data.\n",
    "\n",
    "The standard deviation is around 115.24 μU/mL, indicating considerable variability in insulin levels.\n",
    "There are instances where the insulin level is recorded as 0, which might indicate missing or erroneous data.\n",
    "\n",
    "The average BMI among the patients is approximately 31.99 kg/m².\n",
    "The standard deviation is around 7.88 kg/m², indicating variability in BMI measurements.\n",
    "\n",
    "The average value of the diabetes pedigree function is approximately 0.47.\n",
    "\n",
    "The minimum value of the function is 0.078, and the maximum value is 2.42.\n",
    "\n",
    "The standard deviation is around 11.76 years, indicating some variability in ages.\n",
    "\n",
    "Target attribute represents whether the patient has diabetes (1) or not (0).\n",
    "About 35% of the patients in the dataset have been diagnosed with diabetes (based on the mean)."
   ]
  },
  {
   "cell_type": "markdown",
   "id": "3c250ae4",
   "metadata": {},
   "source": [
    "## Exploratory Data Analysis"
   ]
  },
  {
   "cell_type": "code",
   "execution_count": 5,
   "id": "93b1ab30",
   "metadata": {},
   "outputs": [
    {
     "data": {
      "text/plain": [
       "0    500\n",
       "1    268\n",
       "Name: target, dtype: int64"
      ]
     },
     "execution_count": 5,
     "metadata": {},
     "output_type": "execute_result"
    }
   ],
   "source": [
    "df['target'].value_counts()"
   ]
  },
  {
   "cell_type": "code",
   "execution_count": 6,
   "id": "c15ac6f1",
   "metadata": {},
   "outputs": [
    {
     "data": {
      "text/plain": [
       "<AxesSubplot:xlabel='target', ylabel='count'>"
      ]
     },
     "execution_count": 6,
     "metadata": {},
     "output_type": "execute_result"
    },
    {
     "data": {
      "image/png": "[encoded data removed]",
      "text/plain": [
       "<Figure size 432x288 with 1 Axes>"
      ]
     },
     "metadata": {
      "needs_background": "light"
     },
     "output_type": "display_data"
    }
   ],
   "source": [
    "sns.countplot(data=df,x=\"target\")"
   ]
  },
  {
   "cell_type": "code",
   "execution_count": 7,
   "id": "7277f3df",
   "metadata": {},
   "outputs": [
    {
     "data": {
      "image/png": "[encoded data removed]",
      "text/plain": [
       "<Figure size 432x288 with 1 Axes>"
      ]
     },
     "metadata": {},
     "output_type": "display_data"
    }
   ],
   "source": [
    "plt.pie(df[\"target\"].value_counts(), labels=[\"Not-Diabetic\",\"Diabetic\"],autopct='%1.1f%%', startangle=140)\n",
    "plt.show()"
   ]
  },
  {
   "cell_type": "code",
   "execution_count": 8,
   "id": "30a5f27c",
   "metadata": {},
   "outputs": [
    {
     "data": {
      "text/plain": [
       "<AxesSubplot:xlabel='pregnant', ylabel='count'>"
      ]
     },
     "execution_count": 8,
     "metadata": {},
     "output_type": "execute_result"
    },
    {
     "data": {
      "image/png": "[encoded data removed]",
      "text/plain": [
       "<Figure size 432x288 with 1 Axes>"
      ]
     },
     "metadata": {
      "needs_background": "light"
     },
     "output_type": "display_data"
    }
   ],
   "source": [
    "sns.countplot(data=df,x='pregnant',hue=\"target\")"
   ]
  },
  {
   "cell_type": "code",
   "execution_count": 9,
   "id": "51632f37",
   "metadata": {},
   "outputs": [
    {
     "data": {
      "text/plain": [
       "<AxesSubplot:>"
      ]
     },
     "execution_count": 9,
     "metadata": {},
     "output_type": "execute_result"
    },
    {
     "data": {
      "image/png": "[encoded data removed]",
      "text/plain": [
       "<Figure size 432x288 with 2 Axes>"
      ]
     },
     "metadata": {
      "needs_background": "light"
     },
     "output_type": "display_data"
    }
   ],
   "source": [
    "sns.heatmap(df.corr(), annot=True)"
   ]
  },
  {
   "cell_type": "markdown",
   "id": "a59bd333",
   "metadata": {},
   "source": [
    "### Handling Missing Values "
   ]
  },
  {
   "cell_type": "code",
   "execution_count": 10,
   "id": "bd884813",
   "metadata": {},
   "outputs": [
    {
     "data": {
      "text/html": [
       "<div>\n",
       "<style scoped>\n",
       "    .dataframe tbody tr th:only-of-type {\n",
       "        vertical-align: middle;\n",
       "    }\n",
       "\n",
       "    .dataframe tbody tr th {\n",
       "        vertical-align: top;\n",
       "    }\n",
       "\n",
       "    .dataframe thead th {\n",
       "        text-align: right;\n",
       "    }\n",
       "</style>\n",
       "<table border=\"1\" class=\"dataframe\">\n",
       "  <thead>\n",
       "    <tr style=\"text-align: right;\">\n",
       "      <th></th>\n",
       "      <th>pregnant</th>\n",
       "      <th>glocose</th>\n",
       "      <th>bp</th>\n",
       "      <th>skin</th>\n",
       "      <th>insulin</th>\n",
       "      <th>bmi</th>\n",
       "      <th>predigree</th>\n",
       "      <th>age</th>\n",
       "    </tr>\n",
       "    <tr>\n",
       "      <th>target</th>\n",
       "      <th></th>\n",
       "      <th></th>\n",
       "      <th></th>\n",
       "      <th></th>\n",
       "      <th></th>\n",
       "      <th></th>\n",
       "      <th></th>\n",
       "      <th></th>\n",
       "    </tr>\n",
       "  </thead>\n",
       "  <tbody>\n",
       "    <tr>\n",
       "      <th>0</th>\n",
       "      <td>3.298000</td>\n",
       "      <td>109.980000</td>\n",
       "      <td>68.184000</td>\n",
       "      <td>19.664000</td>\n",
       "      <td>68.792000</td>\n",
       "      <td>30.304200</td>\n",
       "      <td>0.429734</td>\n",
       "      <td>31.190000</td>\n",
       "    </tr>\n",
       "    <tr>\n",
       "      <th>1</th>\n",
       "      <td>4.865672</td>\n",
       "      <td>141.257463</td>\n",
       "      <td>70.824627</td>\n",
       "      <td>22.164179</td>\n",
       "      <td>100.335821</td>\n",
       "      <td>35.142537</td>\n",
       "      <td>0.550500</td>\n",
       "      <td>37.067164</td>\n",
       "    </tr>\n",
       "  </tbody>\n",
       "</table>\n",
       "</div>"
      ],
      "text/plain": [
       "        pregnant     glocose         bp       skin     insulin        bmi  \\\n",
       "target                                                                      \n",
       "0       3.298000  109.980000  68.184000  19.664000   68.792000  30.304200   \n",
       "1       4.865672  141.257463  70.824627  22.164179  100.335821  35.142537   \n",
       "\n",
       "        predigree        age  \n",
       "target                        \n",
       "0        0.429734  31.190000  \n",
       "1        0.550500  37.067164  "
      ]
     },
     "execution_count": 10,
     "metadata": {},
     "output_type": "execute_result"
    }
   ],
   "source": [
    "df.groupby('target').mean()"
   ]
  },
  {
   "cell_type": "code",
   "execution_count": 11,
   "id": "4e5e9680",
   "metadata": {},
   "outputs": [],
   "source": [
    "for i in [\"glocose\",\"bp\",\"skin\",\"insulin\",\"bmi\"]:\n",
    " df[i].replace(0,np.nan,inplace=True)\n",
    " df[i].fillna(df[i].mean(),inplace=True)"
   ]
  },
  {
   "cell_type": "code",
   "execution_count": 13,
   "id": "8711335f",
   "metadata": {},
   "outputs": [],
   "source": [
    "x=df.iloc[:,1:-1]\n",
    "y=df.iloc[:,-1]"
   ]
  },
  {
   "cell_type": "code",
   "execution_count": 14,
   "id": "4946596f",
   "metadata": {},
   "outputs": [
    {
     "data": {
      "text/html": [
       "<div>\n",
       "<style scoped>\n",
       "    .dataframe tbody tr th:only-of-type {\n",
       "        vertical-align: middle;\n",
       "    }\n",
       "\n",
       "    .dataframe tbody tr th {\n",
       "        vertical-align: top;\n",
       "    }\n",
       "\n",
       "    .dataframe thead th {\n",
       "        text-align: right;\n",
       "    }\n",
       "</style>\n",
       "<table border=\"1\" class=\"dataframe\">\n",
       "  <thead>\n",
       "    <tr style=\"text-align: right;\">\n",
       "      <th></th>\n",
       "      <th>glocose</th>\n",
       "      <th>bp</th>\n",
       "      <th>skin</th>\n",
       "      <th>insulin</th>\n",
       "      <th>bmi</th>\n",
       "      <th>predigree</th>\n",
       "      <th>age</th>\n",
       "    </tr>\n",
       "  </thead>\n",
       "  <tbody>\n",
       "    <tr>\n",
       "      <th>0</th>\n",
       "      <td>148.0</td>\n",
       "      <td>72.0</td>\n",
       "      <td>35.00000</td>\n",
       "      <td>155.548223</td>\n",
       "      <td>33.6</td>\n",
       "      <td>0.627</td>\n",
       "      <td>50</td>\n",
       "    </tr>\n",
       "    <tr>\n",
       "      <th>1</th>\n",
       "      <td>85.0</td>\n",
       "      <td>66.0</td>\n",
       "      <td>29.00000</td>\n",
       "      <td>155.548223</td>\n",
       "      <td>26.6</td>\n",
       "      <td>0.351</td>\n",
       "      <td>31</td>\n",
       "    </tr>\n",
       "    <tr>\n",
       "      <th>2</th>\n",
       "      <td>183.0</td>\n",
       "      <td>64.0</td>\n",
       "      <td>29.15342</td>\n",
       "      <td>155.548223</td>\n",
       "      <td>23.3</td>\n",
       "      <td>0.672</td>\n",
       "      <td>32</td>\n",
       "    </tr>\n",
       "    <tr>\n",
       "      <th>3</th>\n",
       "      <td>89.0</td>\n",
       "      <td>66.0</td>\n",
       "      <td>23.00000</td>\n",
       "      <td>94.000000</td>\n",
       "      <td>28.1</td>\n",
       "      <td>0.167</td>\n",
       "      <td>21</td>\n",
       "    </tr>\n",
       "    <tr>\n",
       "      <th>4</th>\n",
       "      <td>137.0</td>\n",
       "      <td>40.0</td>\n",
       "      <td>35.00000</td>\n",
       "      <td>168.000000</td>\n",
       "      <td>43.1</td>\n",
       "      <td>2.288</td>\n",
       "      <td>33</td>\n",
       "    </tr>\n",
       "    <tr>\n",
       "      <th>...</th>\n",
       "      <td>...</td>\n",
       "      <td>...</td>\n",
       "      <td>...</td>\n",
       "      <td>...</td>\n",
       "      <td>...</td>\n",
       "      <td>...</td>\n",
       "      <td>...</td>\n",
       "    </tr>\n",
       "    <tr>\n",
       "      <th>763</th>\n",
       "      <td>101.0</td>\n",
       "      <td>76.0</td>\n",
       "      <td>48.00000</td>\n",
       "      <td>180.000000</td>\n",
       "      <td>32.9</td>\n",
       "      <td>0.171</td>\n",
       "      <td>63</td>\n",
       "    </tr>\n",
       "    <tr>\n",
       "      <th>764</th>\n",
       "      <td>122.0</td>\n",
       "      <td>70.0</td>\n",
       "      <td>27.00000</td>\n",
       "      <td>155.548223</td>\n",
       "      <td>36.8</td>\n",
       "      <td>0.340</td>\n",
       "      <td>27</td>\n",
       "    </tr>\n",
       "    <tr>\n",
       "      <th>765</th>\n",
       "      <td>121.0</td>\n",
       "      <td>72.0</td>\n",
       "      <td>23.00000</td>\n",
       "      <td>112.000000</td>\n",
       "      <td>26.2</td>\n",
       "      <td>0.245</td>\n",
       "      <td>30</td>\n",
       "    </tr>\n",
       "    <tr>\n",
       "      <th>766</th>\n",
       "      <td>126.0</td>\n",
       "      <td>60.0</td>\n",
       "      <td>29.15342</td>\n",
       "      <td>155.548223</td>\n",
       "      <td>30.1</td>\n",
       "      <td>0.349</td>\n",
       "      <td>47</td>\n",
       "    </tr>\n",
       "    <tr>\n",
       "      <th>767</th>\n",
       "      <td>93.0</td>\n",
       "      <td>70.0</td>\n",
       "      <td>31.00000</td>\n",
       "      <td>155.548223</td>\n",
       "      <td>30.4</td>\n",
       "      <td>0.315</td>\n",
       "      <td>23</td>\n",
       "    </tr>\n",
       "  </tbody>\n",
       "</table>\n",
       "<p>768 rows × 7 columns</p>\n",
       "</div>"
      ],
      "text/plain": [
       "     glocose    bp      skin     insulin   bmi  predigree  age\n",
       "0      148.0  72.0  35.00000  155.548223  33.6      0.627   50\n",
       "1       85.0  66.0  29.00000  155.548223  26.6      0.351   31\n",
       "2      183.0  64.0  29.15342  155.548223  23.3      0.672   32\n",
       "3       89.0  66.0  23.00000   94.000000  28.1      0.167   21\n",
       "4      137.0  40.0  35.00000  168.000000  43.1      2.288   33\n",
       "..       ...   ...       ...         ...   ...        ...  ...\n",
       "763    101.0  76.0  48.00000  180.000000  32.9      0.171   63\n",
       "764    122.0  70.0  27.00000  155.548223  36.8      0.340   27\n",
       "765    121.0  72.0  23.00000  112.000000  26.2      0.245   30\n",
       "766    126.0  60.0  29.15342  155.548223  30.1      0.349   47\n",
       "767     93.0  70.0  31.00000  155.548223  30.4      0.315   23\n",
       "\n",
       "[768 rows x 7 columns]"
      ]
     },
     "execution_count": 14,
     "metadata": {},
     "output_type": "execute_result"
    }
   ],
   "source": [
    "x"
   ]
  },
  {
   "cell_type": "code",
   "execution_count": 15,
   "id": "a6b1f3a5",
   "metadata": {},
   "outputs": [
    {
     "data": {
      "text/plain": [
       "0      1\n",
       "1      0\n",
       "2      1\n",
       "3      0\n",
       "4      1\n",
       "      ..\n",
       "763    0\n",
       "764    0\n",
       "765    0\n",
       "766    1\n",
       "767    0\n",
       "Name: target, Length: 768, dtype: int64"
      ]
     },
     "execution_count": 15,
     "metadata": {},
     "output_type": "execute_result"
    }
   ],
   "source": [
    "y"
   ]
  },
  {
   "cell_type": "markdown",
   "id": "56034bcf",
   "metadata": {},
   "source": [
    "### Scaling"
   ]
  },
  {
   "cell_type": "code",
   "execution_count": 16,
   "id": "e76fc894",
   "metadata": {},
   "outputs": [],
   "source": [
    "from sklearn.preprocessing import StandardScaler\n",
    "scaler = StandardScaler()\n",
    "scaler.fit(x)\n",
    "standardized_data = scaler.transform(x)\n",
    "X = standardized_data\n",
    "Y = df['target']"
   ]
  },
  {
   "cell_type": "markdown",
   "id": "aa8fbfc9",
   "metadata": {},
   "source": [
    "### Splitiing the dataset into training and testing "
   ]
  },
  {
   "cell_type": "code",
   "execution_count": 17,
   "id": "2b29718e",
   "metadata": {},
   "outputs": [],
   "source": [
    "from sklearn.model_selection import train_test_split\n",
    "xtrain,xtest,ytrain,ytest=train_test_split(x,y,test_size=0.25,random_state=1)"
   ]
  },
  {
   "cell_type": "markdown",
   "id": "1f3ca270",
   "metadata": {},
   "source": [
    "### Building a Logistic Regression model"
   ]
  },
  {
   "cell_type": "code",
   "execution_count": 18,
   "id": "4613a8a8",
   "metadata": {},
   "outputs": [],
   "source": [
    "from sklearn.linear_model import LogisticRegression\n",
    "logreg=LogisticRegression()\n",
    "logreg.fit(xtrain,ytrain)\n",
    "ypred=logreg.predict(xtest)"
   ]
  },
  {
   "cell_type": "markdown",
   "id": "807eb977",
   "metadata": {},
   "source": [
    "### Model Evaluation"
   ]
  },
  {
   "cell_type": "code",
   "execution_count": 19,
   "id": "cdb83881",
   "metadata": {},
   "outputs": [
    {
     "name": "stdout",
     "output_type": "stream",
     "text": [
      "Accuracy:0.7864583333333334\n",
      "[[107  16]\n",
      " [ 25  44]]\n",
      "\n",
      "              precision    recall  f1-score   support\n",
      "\n",
      "           0       0.81      0.87      0.84       123\n",
      "           1       0.73      0.64      0.68        69\n",
      "\n",
      "    accuracy                           0.79       192\n",
      "   macro avg       0.77      0.75      0.76       192\n",
      "weighted avg       0.78      0.79      0.78       192\n",
      "\n"
     ]
    }
   ],
   "source": [
    "from sklearn.metrics import accuracy_score,confusion_matrix,classification_report\n",
    "ac=accuracy_score(ytest,ypred)\n",
    "cm=confusion_matrix(ytest,ypred)\n",
    "cr=classification_report(ytest,ypred)\n",
    "print(f\"Accuracy:{ac}\\n{cm}\\n\\n{cr}\")"
   ]
  },
  {
   "cell_type": "markdown",
   "id": "4727f7b2",
   "metadata": {},
   "source": [
    "### Bias and Variance Tradeoff"
   ]
  },
  {
   "cell_type": "code",
   "execution_count": 20,
   "id": "e632126c",
   "metadata": {},
   "outputs": [
    {
     "name": "stdout",
     "output_type": "stream",
     "text": [
      "Training Score :0.7708333333333334\n",
      "Testing Score:0.7864583333333334\n"
     ]
    }
   ],
   "source": [
    "train=logreg.score(xtrain,ytrain)\n",
    "test=logreg.score(xtest,ytest)\n",
    "print(f\"Training Score :{train}\\nTesting Score:{test}\")"
   ]
  },
  {
   "cell_type": "markdown",
   "id": "9bd4848f",
   "metadata": {},
   "source": [
    "### Building KNeigbors classifier model"
   ]
  },
  {
   "cell_type": "code",
   "execution_count": 21,
   "id": "17b9adb1",
   "metadata": {},
   "outputs": [],
   "source": [
    "from sklearn.neighbors import KNeighborsClassifier\n",
    "knn = KNeighborsClassifier(n_neighbors=3)\n",
    "knn.fit(xtrain,ytrain)\n",
    "ypred1=knn.predict(xtest)"
   ]
  },
  {
   "cell_type": "markdown",
   "id": "96b56999",
   "metadata": {},
   "source": [
    "### Model Evaluation"
   ]
  },
  {
   "cell_type": "code",
   "execution_count": 22,
   "id": "787fdb37",
   "metadata": {},
   "outputs": [
    {
     "name": "stdout",
     "output_type": "stream",
     "text": [
      "Accuracy:0.7864583333333334\n",
      "[[107  16]\n",
      " [ 25  44]]\n",
      "\n",
      "              precision    recall  f1-score   support\n",
      "\n",
      "           0       0.81      0.87      0.84       123\n",
      "           1       0.73      0.64      0.68        69\n",
      "\n",
      "    accuracy                           0.79       192\n",
      "   macro avg       0.77      0.75      0.76       192\n",
      "weighted avg       0.78      0.79      0.78       192\n",
      "\n"
     ]
    }
   ],
   "source": [
    "from sklearn.metrics import accuracy_score,confusion_matrix,classification_report\n",
    "ac=accuracy_score(ytest,ypred)\n",
    "cm=confusion_matrix(ytest,ypred)\n",
    "cr=classification_report(ytest,ypred)\n",
    "print(f\"Accuracy:{ac}\\n{cm}\\n\\n{cr}\")"
   ]
  },
  {
   "cell_type": "code",
   "execution_count": 23,
   "id": "383ec119",
   "metadata": {},
   "outputs": [],
   "source": [
    "knn_list=[]\n",
    "for i in range(1,31):\n",
    " knn = KNeighborsClassifier(n_neighbors=i)\n",
    " knn.fit(xtrain,ytrain)\n",
    " ypred=knn.predict(xtest)\n",
    " ac=accuracy_score(ytest,ypred)\n",
    " knn_list.append(ac)"
   ]
  },
  {
   "cell_type": "code",
   "execution_count": 24,
   "id": "fdb434dc",
   "metadata": {},
   "outputs": [
    {
     "data": {
      "text/plain": [
       "[0.7291666666666666,\n",
       " 0.7447916666666666,\n",
       " 0.734375,\n",
       " 0.75,\n",
       " 0.7552083333333334,\n",
       " 0.7604166666666666,\n",
       " 0.765625,\n",
       " 0.7447916666666666,\n",
       " 0.765625,\n",
       " 0.7708333333333334,\n",
       " 0.7447916666666666,\n",
       " 0.765625,\n",
       " 0.765625,\n",
       " 0.7604166666666666,\n",
       " 0.7916666666666666,\n",
       " 0.7916666666666666,\n",
       " 0.8072916666666666,\n",
       " 0.796875,\n",
       " 0.7916666666666666,\n",
       " 0.8020833333333334,\n",
       " 0.796875,\n",
       " 0.7760416666666666,\n",
       " 0.7708333333333334,\n",
       " 0.78125,\n",
       " 0.7864583333333334,\n",
       " 0.7604166666666666,\n",
       " 0.7708333333333334,\n",
       " 0.7916666666666666,\n",
       " 0.7864583333333334,\n",
       " 0.7760416666666666]"
      ]
     },
     "execution_count": 24,
     "metadata": {},
     "output_type": "execute_result"
    }
   ],
   "source": [
    "knn_list"
   ]
  },
  {
   "cell_type": "code",
   "execution_count": 25,
   "id": "1ce4fb09",
   "metadata": {},
   "outputs": [],
   "source": [
    "knn = KNeighborsClassifier(n_neighbors=17)\n",
    "knn.fit(xtrain,ytrain)\n",
    "ypred2=knn.predict(xtest)\n"
   ]
  },
  {
   "cell_type": "code",
   "execution_count": 26,
   "id": "cfd8d78c",
   "metadata": {},
   "outputs": [
    {
     "data": {
      "text/plain": [
       "0.8072916666666666"
      ]
     },
     "execution_count": 26,
     "metadata": {},
     "output_type": "execute_result"
    }
   ],
   "source": [
    "accuracy_score(ytest,ypred2)"
   ]
  },
  {
   "cell_type": "markdown",
   "id": "632d518d",
   "metadata": {},
   "source": [
    "### Building a Support Vector Classifier model (SVC)"
   ]
  },
  {
   "cell_type": "code",
   "execution_count": 28,
   "id": "75bb685b",
   "metadata": {},
   "outputs": [
    {
     "data": {
      "text/plain": [
       "SVC()"
      ]
     },
     "execution_count": 28,
     "metadata": {},
     "output_type": "execute_result"
    }
   ],
   "source": [
    "from sklearn.svm import SVC\n",
    "svm = SVC()\n",
    "svm.fit(xtrain,ytrain)"
   ]
  },
  {
   "cell_type": "code",
   "execution_count": 29,
   "id": "606299b0",
   "metadata": {},
   "outputs": [
    {
     "name": "stdout",
     "output_type": "stream",
     "text": [
      "Training Accuracy:- 0.7672253258845437\n",
      " Testing Accuracy:- 0.7662337662337663\n"
     ]
    }
   ],
   "source": [
    "train = svm.score(xtrain,ytrain)\n",
    "test = svm.score(xtest,ytest)\n",
    "print(f\"Training Accuracy:- {train}\\n Testing Accuracy:- {test}\")"
   ]
  },
  {
   "cell_type": "code",
   "execution_count": 30,
   "id": "277d0aa1",
   "metadata": {},
   "outputs": [],
   "source": [
    "from sklearn.preprocessing import StandardScaler\n",
    "sc = StandardScaler()\n",
    "xtrains = sc.fit_transform(xtrain)\n",
    "xtests = sc.transform(xtest)"
   ]
  },
  {
   "cell_type": "code",
   "execution_count": 31,
   "id": "00961d5d",
   "metadata": {},
   "outputs": [
    {
     "data": {
      "text/plain": [
       "SVC()"
      ]
     },
     "execution_count": 31,
     "metadata": {},
     "output_type": "execute_result"
    }
   ],
   "source": [
    "from sklearn.svm import SVC\n",
    "svm = SVC()\n",
    "svm.fit(xtrains,ytrain)"
   ]
  },
  {
   "cell_type": "markdown",
   "id": "c7bc5135",
   "metadata": {},
   "source": [
    "### To check how much bias and variance model has"
   ]
  },
  {
   "cell_type": "code",
   "execution_count": 32,
   "id": "3b6a6df9",
   "metadata": {},
   "outputs": [
    {
     "name": "stdout",
     "output_type": "stream",
     "text": [
      "Training Accuracy:- 0.819366852886406\n",
      " Testing Accuracy:- 0.7878787878787878\n"
     ]
    }
   ],
   "source": [
    "train = svm.score(xtrains,ytrain)\n",
    "test = svm.score(xtests,ytest)\n",
    "print(f\"Training Accuracy:- {train}\\n Testing Accuracy:- {test}\")"
   ]
  },
  {
   "cell_type": "markdown",
   "id": "374e68d3",
   "metadata": {},
   "source": [
    "If we have high error in training and low error in testing \n",
    "high bias + low variance = Underfit model"
   ]
  },
  {
   "cell_type": "code",
   "execution_count": 34,
   "id": "d02be405",
   "metadata": {},
   "outputs": [
    {
     "name": "stdout",
     "output_type": "stream",
     "text": [
      "Accuracy : 0.7792207792207793\n",
      "ROC : 0.7393231265108784\n",
      "[[130  16]\n",
      " [ 35  50]]\n",
      "\n",
      "              precision    recall  f1-score   support\n",
      "\n",
      "           0       0.79      0.89      0.84       146\n",
      "           1       0.76      0.59      0.66        85\n",
      "\n",
      "    accuracy                           0.78       231\n",
      "   macro avg       0.77      0.74      0.75       231\n",
      "weighted avg       0.78      0.78      0.77       231\n",
      "\n"
     ]
    }
   ],
   "source": [
    "from sklearn.metrics import classification_report, accuracy_score, roc_auc_score, confusion_matrix\n",
    "ac = accuracy_score(ytest, ypred)\n",
    "ra = roc_auc_score(ytest, ypred)\n",
    "cm = confusion_matrix(ytest, ypred)\n",
    "cr = classification_report(ytest, ypred)\n",
    "\n",
    "print(f\"Accuracy : {ac}\\nROC : {ra}\\n{cm}\\n\\n{cr}\")"
   ]
  },
  {
   "cell_type": "markdown",
   "id": "75dd9620",
   "metadata": {},
   "source": [
    "## ROCAUC"
   ]
  },
  {
   "cell_type": "markdown",
   "id": "c70eaf26",
   "metadata": {},
   "source": [
    "### To check actual and predicted values"
   ]
  },
  {
   "cell_type": "code",
   "execution_count": 33,
   "id": "11089d47",
   "metadata": {},
   "outputs": [
    {
     "name": "stdout",
     "output_type": "stream",
     "text": [
      "Actual Values     : [0 0 0 0 0 0 0 0 0 0 0 0 1 1 0 1 1 0 0 0 1 1 1 1 0]\n",
      "Predicted Values  : [0 0 0 0 0 0 0 0 0 0 0 0 1 1 0 1 0 0 0 0 0 0 1 0 0]\n"
     ]
    }
   ],
   "source": [
    "print(f\"Actual Values     : {ytest[:25].values}\")\n",
    "print(f\"Predicted Values  : {ypred[:25]}\")"
   ]
  },
  {
   "cell_type": "markdown",
   "id": "de67347d",
   "metadata": {},
   "source": [
    "### To improve recall and f1 score"
   ]
  },
  {
   "cell_type": "markdown",
   "id": "312735a3",
   "metadata": {},
   "source": [
    "Our goal is to shift the threshold"
   ]
  },
  {
   "cell_type": "code",
   "execution_count": 35,
   "id": "4d3128a8",
   "metadata": {},
   "outputs": [],
   "source": [
    "ypredprob = logreg.predict_proba(xtest)[:, 1]"
   ]
  },
  {
   "cell_type": "code",
   "execution_count": 36,
   "id": "e54705b3",
   "metadata": {},
   "outputs": [
    {
     "data": {
      "text/plain": [
       "array([0.40625075, 0.28077219, 0.09660638, 0.08226359, 0.27210538,\n",
       "       0.33805359, 0.32924369, 0.10932587, 0.20508145, 0.27549425,\n",
       "       0.37433948, 0.10343217, 0.98569267, 0.65931487, 0.34468326,\n",
       "       0.65247441, 0.30359219, 0.3082597 , 0.04020466, 0.10965518,\n",
       "       0.42545094, 0.11225102, 0.87207434, 0.16623794, 0.08236012,\n",
       "       0.43349572, 0.2566931 , 0.60480666, 0.12305222, 0.37002902,\n",
       "       0.4341836 , 0.10016338, 0.05503125, 0.81696733, 0.16492825,\n",
       "       0.8062633 , 0.08274675, 0.20591625, 0.07391423, 0.51442361,\n",
       "       0.27209259, 0.10680573, 0.03718714, 0.34862239, 0.08020986,\n",
       "       0.01913346, 0.84706575, 0.79620724, 0.07882408, 0.12902727,\n",
       "       0.04936796, 0.18340703, 0.76288859, 0.05440973, 0.66656995,\n",
       "       0.11557965, 0.29140397, 0.24942856, 0.60247494, 0.17636299,\n",
       "       0.6562884 , 0.07113785, 0.70771391, 0.25045313, 0.52741213,\n",
       "       0.12639502, 0.50060211, 0.52766201, 0.56286389, 0.56923335,\n",
       "       0.87136099, 0.84119707, 0.56617465, 0.01638863, 0.62075806,\n",
       "       0.15982319, 0.59944199, 0.29638644, 0.12852593, 0.65962649,\n",
       "       0.73064593, 0.22473314, 0.46936715, 0.31020189, 0.36159651,\n",
       "       0.68188648, 0.55678967, 0.2166715 , 0.44128329, 0.27877796,\n",
       "       0.14426866, 0.04262419, 0.32647113, 0.13972897, 0.77496282,\n",
       "       0.37516441, 0.33986475, 0.24280042, 0.90631385, 0.12551183,\n",
       "       0.11915967, 0.32942267, 0.76112133, 0.2461455 , 0.11339594,\n",
       "       0.07578271, 0.41598758, 0.72594259, 0.20619595, 0.19962684,\n",
       "       0.43528807, 0.05746683, 0.52362402, 0.22750186, 0.53983977,\n",
       "       0.06620034, 0.10679816, 0.49854657, 0.3515958 , 0.48832811,\n",
       "       0.22660427, 0.86230883, 0.3188047 , 0.42925607, 0.17480468,\n",
       "       0.13117147, 0.28509386, 0.33700212, 0.62995186, 0.24668731,\n",
       "       0.96513869, 0.04564621, 0.41183617, 0.30664168, 0.11543082,\n",
       "       0.23914834, 0.0744968 , 0.60659859, 0.16598673, 0.31563864,\n",
       "       0.93608967, 0.10970396, 0.15694979, 0.850767  , 0.67064481,\n",
       "       0.31560713, 0.06083211, 0.06724766, 0.25106477, 0.12155809,\n",
       "       0.30746214, 0.95393583, 0.6843396 , 0.08591156, 0.64150175,\n",
       "       0.62066117, 0.3049874 , 0.31896868, 0.37863489, 0.10594045,\n",
       "       0.86954513, 0.64991696, 0.29813504, 0.03642317, 0.19679304,\n",
       "       0.35021019, 0.2659278 , 0.64521605, 0.79223974, 0.55869544,\n",
       "       0.90926901, 0.70865884, 0.22378726, 0.10821752, 0.6868533 ,\n",
       "       0.3945408 , 0.80768354, 0.2059452 , 0.11344578, 0.1700377 ,\n",
       "       0.36765431, 0.73469153, 0.11501214, 0.85432041, 0.03960982,\n",
       "       0.06720738, 0.03724769, 0.87218414, 0.30533637, 0.21449142,\n",
       "       0.11217968, 0.04759541, 0.08951428, 0.08955081, 0.78926147,\n",
       "       0.07622018, 0.26619349, 0.13584313, 0.24091704, 0.77499026,\n",
       "       0.89908202, 0.39705741, 0.1163232 , 0.12486543, 0.64861164,\n",
       "       0.79110213, 0.04809037, 0.09706116, 0.18999089, 0.73973671,\n",
       "       0.08076806, 0.44087182, 0.1388845 , 0.45487825, 0.07974915,\n",
       "       0.41681821, 0.18703564, 0.04430031, 0.25737491, 0.4045648 ,\n",
       "       0.12446755, 0.05487179, 0.0643684 , 0.91919458, 0.22788405,\n",
       "       0.31842156, 0.10412944, 0.11155076, 0.0556312 , 0.78180347,\n",
       "       0.24578796])"
      ]
     },
     "execution_count": 36,
     "metadata": {},
     "output_type": "execute_result"
    }
   ],
   "source": [
    "ypredprob #probability of a patient for being diabetic i.e for class 1"
   ]
  },
  {
   "cell_type": "markdown",
   "id": "a90d1c20",
   "metadata": {},
   "source": [
    "### Binarize "
   ]
  },
  {
   "cell_type": "code",
   "execution_count": 37,
   "id": "5aba0da5",
   "metadata": {},
   "outputs": [],
   "source": [
    "from sklearn.preprocessing import binarize\n",
    "ypred = binarize([ypredprob], threshold=0.3)[0]"
   ]
  },
  {
   "cell_type": "code",
   "execution_count": 38,
   "id": "cfae8183",
   "metadata": {},
   "outputs": [
    {
     "name": "stdout",
     "output_type": "stream",
     "text": [
      "Actual Values     : [0 0 0 0 0 0 0 0 0 0 0 0 1 1 0 1 1 0 0 0 1 1 1 1 0]\n",
      "Predicted Values  : [1 0 0 0 0 1 1 0 0 0 1 0 1 1 1 1 1 1 0 0 1 0 1 0 0]\n"
     ]
    }
   ],
   "source": [
    "print(f\"Actual Values     : {ytest[:25].values}\")\n",
    "print(f\"Predicted Values  : {ypred[:25].astype(int)}\")"
   ]
  },
  {
   "cell_type": "markdown",
   "id": "948b7348",
   "metadata": {},
   "source": [
    "### Model Evaluation"
   ]
  },
  {
   "cell_type": "code",
   "execution_count": 39,
   "id": "0c2461dc",
   "metadata": {},
   "outputs": [
    {
     "name": "stdout",
     "output_type": "stream",
     "text": [
      "Accuracy : 0.7532467532467533\n",
      "ROC : 0.7679290894439967\n",
      "[[104  42]\n",
      " [ 15  70]]\n",
      "\n",
      "              precision    recall  f1-score   support\n",
      "\n",
      "           0       0.87      0.71      0.78       146\n",
      "           1       0.62      0.82      0.71        85\n",
      "\n",
      "    accuracy                           0.75       231\n",
      "   macro avg       0.75      0.77      0.75       231\n",
      "weighted avg       0.78      0.75      0.76       231\n",
      "\n"
     ]
    }
   ],
   "source": [
    "ac = accuracy_score(ytest, ypred)\n",
    "ra = roc_auc_score(ytest, ypred)\n",
    "cm = confusion_matrix(ytest, ypred)\n",
    "cr = classification_report(ytest, ypred)\n",
    "\n",
    "print(f\"Accuracy : {ac}\\nROC : {ra}\\n{cm}\\n\\n{cr}\")"
   ]
  },
  {
   "cell_type": "markdown",
   "id": "fea0a20b",
   "metadata": {},
   "source": [
    "### Bias and Variance tradeoff"
   ]
  },
  {
   "cell_type": "code",
   "execution_count": 40,
   "id": "bddb35fb",
   "metadata": {},
   "outputs": [
    {
     "name": "stdout",
     "output_type": "stream",
     "text": [
      "Training Accuracy - : 0.7672253258845437\n",
      "Testing Accuracy -: 0.7792207792207793\n"
     ]
    }
   ],
   "source": [
    "train = logreg.score(xtrain, ytrain)\n",
    "test = logreg.score(xtest, ytest)\n",
    "\n",
    "print(f\"Training Accuracy - : {train}\\nTesting Accuracy -: {test}\")"
   ]
  },
  {
   "cell_type": "markdown",
   "id": "1e7ffb2c",
   "metadata": {},
   "source": [
    "### Plot ROC Curve"
   ]
  },
  {
   "cell_type": "code",
   "execution_count": 41,
   "id": "b0be4330",
   "metadata": {},
   "outputs": [],
   "source": [
    "from sklearn.metrics import roc_curve"
   ]
  },
  {
   "cell_type": "code",
   "execution_count": 42,
   "id": "c6d408f4",
   "metadata": {},
   "outputs": [
    {
     "data": {
      "image/png": "[encoded data removed]",
      "text/plain": [
       "<Figure size 432x288 with 1 Axes>"
      ]
     },
     "metadata": {
      "needs_background": "light"
     },
     "output_type": "display_data"
    }
   ],
   "source": [
    "fpr, tpr, thres = roc_curve(ytest, ypredprob)\n",
    "plt.plot(fpr, tpr)\n",
    "\n",
    "plt.title(\"ROC curve for Diabeties Classifier\")\n",
    "plt.xlabel(\"False Positive Rate (1-Specificity)\")\n",
    "plt.ylabel(\"True Positive Rate (Sensitivity)\")\n",
    "plt.grid()\n",
    "plt.show()  "
   ]
  },
  {
   "cell_type": "code",
   "execution_count": null,
   "id": "a405a794",
   "metadata": {},
   "outputs": [],
   "source": []
  }
 ],
 "metadata": {
  "kernelspec": {
   "display_name": "Python 3 (ipykernel)",
   "language": "python",
   "name": "python3"
  },
  "language_info": {
   "codemirror_mode": {
    "name": "ipython",
    "version": 3
   },
   "file_extension": ".py",
   "mimetype": "text/x-python",
   "name": "python",
   "nbconvert_exporter": "python",
   "pygments_lexer": "ipython3",
   "version": "3.9.7"
  }
 },
 "nbformat": 4,
 "nbformat_minor": 5
}
